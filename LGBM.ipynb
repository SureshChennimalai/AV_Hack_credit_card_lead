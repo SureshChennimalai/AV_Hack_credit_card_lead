{
 "cells": [
  {
   "cell_type": "code",
   "execution_count": 1,
   "metadata": {},
   "outputs": [],
   "source": [
    "# Import required libraries\n",
    "import pandas as pd\n",
    "import matplotlib.pyplot as plt\n",
    "from sklearn.model_selection import train_test_split\n",
    "from xgboost import XGBClassifier\n",
    "from sklearn.metrics import accuracy_score  \n",
    "from sklearn.metrics import roc_auc_score, roc_curve\n",
    "from sklearn.ensemble import ExtraTreesClassifier\n",
    "import lightgbm as lgb"
   ]
  },
  {
   "cell_type": "code",
   "execution_count": 2,
   "metadata": {},
   "outputs": [],
   "source": [
    "# Read the train data file\n",
    "df = pd.read_csv(r'train_s3TEQDk.csv')\n"
   ]
  },
  {
   "cell_type": "markdown",
   "metadata": {},
   "source": [
    "# EDA"
   ]
  },
  {
   "cell_type": "code",
   "execution_count": 3,
   "metadata": {},
   "outputs": [
    {
     "name": "stdout",
     "output_type": "stream",
     "text": [
      "<class 'pandas.core.frame.DataFrame'>\n",
      "RangeIndex: 245725 entries, 0 to 245724\n",
      "Data columns (total 11 columns):\n",
      "ID                     245725 non-null object\n",
      "Gender                 245725 non-null object\n",
      "Age                    245725 non-null int64\n",
      "Region_Code            245725 non-null object\n",
      "Occupation             245725 non-null object\n",
      "Channel_Code           245725 non-null object\n",
      "Vintage                245725 non-null int64\n",
      "Credit_Product         216400 non-null object\n",
      "Avg_Account_Balance    245725 non-null int64\n",
      "Is_Active              245725 non-null object\n",
      "Is_Lead                245725 non-null int64\n",
      "dtypes: int64(4), object(7)\n",
      "memory usage: 20.6+ MB\n"
     ]
    }
   ],
   "source": [
    "# Understanding the training data\n",
    "df.info()"
   ]
  },
  {
   "cell_type": "code",
   "execution_count": 4,
   "metadata": {},
   "outputs": [],
   "source": [
    "# One Hot Encoding\n",
    "df = pd.get_dummies(df, columns =['Gender','Is_Active','Credit_Product','Channel_Code','Occupation','Region_Code'])\n",
    "col = list(df.columns)"
   ]
  },
  {
   "cell_type": "markdown",
   "metadata": {},
   "source": [
    "# Build Model"
   ]
  },
  {
   "cell_type": "code",
   "execution_count": 5,
   "metadata": {},
   "outputs": [],
   "source": [
    "# define the dependent and independent variables\n",
    "col_y = df['Is_Lead']\n",
    "col_X = df.drop(['ID','Is_Lead'], axis =1)"
   ]
  },
  {
   "cell_type": "code",
   "execution_count": 6,
   "metadata": {},
   "outputs": [
    {
     "name": "stdout",
     "output_type": "stream",
     "text": [
      "Accuracy: 86.12%\n"
     ]
    }
   ],
   "source": [
    "# Split dataset into training set and test set\n",
    "X_train, X_test, y_train, y_test = train_test_split(col_X, col_y, test_size=0.3, random_state = 0) \n",
    "\n",
    "\n",
    "\n",
    "# LGBM Boost Model\n",
    "model = lgb.LGBMClassifier()\n",
    "\n",
    "model.fit(X_train, y_train)\n",
    "\n",
    "# make predictions for test data split\n",
    "y_pred = model.predict(X_test)\n",
    "\n",
    "y_pred_prob = model.predict_proba(X_test)\n",
    "\n",
    "# evaluate predictions\n",
    "accuracy = accuracy_score(y_test, y_pred)\n",
    "print(\"Accuracy: %.2f%%\" % (accuracy * 100.0))   "
   ]
  },
  {
   "cell_type": "code",
   "execution_count": 7,
   "metadata": {},
   "outputs": [
    {
     "name": "stdout",
     "output_type": "stream",
     "text": [
      "AUC: 0.874590099\n"
     ]
    },
    {
     "data": {
      "image/png": "[encoded data removed]",
      "text/plain": [
       "<Figure size 432x288 with 1 Axes>"
      ]
     },
     "metadata": {
      "needs_background": "light"
     },
     "output_type": "display_data"
    }
   ],
   "source": [
    "# AUC ROC\n",
    "auc = roc_auc_score(y_test, y_pred_prob[:,1])\n",
    "print('AUC: %.9f' % auc)\n",
    "# calculate the roc curve\n",
    "fpr, tpr, thresholds = roc_curve(y_test, y_pred_prob[:,1])\n",
    "# plot auroc\n",
    "fig3 = plt.figure()\n",
    "plt.plot([0, 1], [0, 1], linestyle='--', label='baseline')\n",
    "plt.plot(fpr, tpr, marker='.', label='Extra_tree')\n",
    "plt.xlabel('FPR')\n",
    "plt.ylabel('TPR')\n",
    "plt.title(\"AUROC\")\n",
    "plt.legend()\n",
    "plt.show()"
   ]
  },
  {
   "cell_type": "markdown",
   "metadata": {},
   "source": [
    "# Test data"
   ]
  },
  {
   "cell_type": "code",
   "execution_count": 8,
   "metadata": {},
   "outputs": [],
   "source": [
    "# Read the test file\n",
    "df_test = pd.read_csv(r'test_mSzZ8RL.csv')"
   ]
  },
  {
   "cell_type": "code",
   "execution_count": 9,
   "metadata": {},
   "outputs": [],
   "source": [
    "# One Hot Encoding\n",
    "df_test = pd.get_dummies(df_test, columns = ['Gender','Is_Active','Credit_Product','Channel_Code','Occupation','Region_Code'])\n",
    "col_test = list(df_test.columns)"
   ]
  },
  {
   "cell_type": "code",
   "execution_count": 10,
   "metadata": {},
   "outputs": [],
   "source": [
    "# Predict the target variable and the probabilities\n",
    "X_test_data = df_test[col_test[1:]]\n",
    "y_pred_test_data = model.predict(X_test_data)\n",
    "y_pred_prob_test_data = model.predict_proba(X_test_data)\n",
    "\n",
    "# write data to solution file\n",
    "ids = list(df_test[col[0]])\n",
    "probability = list(y_pred_prob_test_data[:,1])\n",
    "df_out = pd.DataFrame(list(zip(ids,probability)), columns = ['ID', 'Is_Lead'])\n",
    "df_out.to_csv('Final_solution_lgbm.csv', index = False)"
   ]
  }
 ],
 "metadata": {
  "kernelspec": {
   "display_name": "Python 3",
   "language": "python",
   "name": "python3"
  },
  "language_info": {
   "codemirror_mode": {
    "name": "ipython",
    "version": 3
   },
   "file_extension": ".py",
   "mimetype": "text/x-python",
   "name": "python",
   "nbconvert_exporter": "python",
   "pygments_lexer": "ipython3",
   "version": "3.7.0"
  }
 },
 "nbformat": 4,
 "nbformat_minor": 2
}
